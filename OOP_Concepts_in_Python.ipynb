{
  "nbformat": 4,
  "nbformat_minor": 0,
  "metadata": {
    "colab": {
      "name": "OOP_Concepts_in_Python.ipynb",
      "provenance": [],
      "authorship_tag": "ABX9TyOq167xt/4ZDqZRckvanj3p",
      "include_colab_link": true
    },
    "kernelspec": {
      "name": "python3",
      "display_name": "Python 3"
    },
    "language_info": {
      "name": "python"
    }
  },
  "cells": [
    {
      "cell_type": "markdown",
      "metadata": {
        "id": "view-in-github",
        "colab_type": "text"
      },
      "source": [
        "<a href=\"https://colab.research.google.com/github/Nachtttt/OOP-58002/blob/main/OOP_Concepts_in_Python.ipynb\" target=\"_parent\"><img src=\"https://colab.research.google.com/assets/colab-badge.svg\" alt=\"Open In Colab\"/></a>"
      ]
    },
    {
      "cell_type": "markdown",
      "source": [
        "Create a class"
      ],
      "metadata": {
        "id": "_p8uvQcvsbV0"
      }
    },
    {
      "cell_type": "code",
      "source": [
        "class Car:\n",
        "  pass"
      ],
      "metadata": {
        "id": "Ta-mIaA5scsk"
      },
      "execution_count": null,
      "outputs": []
    },
    {
      "cell_type": "markdown",
      "source": [
        "Create an object"
      ],
      "metadata": {
        "id": "KAT4uJBxshi2"
      }
    },
    {
      "cell_type": "code",
      "source": [
        "class Car:\n",
        "  def __init__(self,name,color):\n",
        "    self.name = name\n",
        "    self.color = color\n",
        "\n",
        "  def description(self):\n",
        "    return\"The\"+ self.name+\"has a color\"+self.color\n",
        "\n",
        "  def show(self):\n",
        "    print(\"The \"+self.name+\"has a color\"+self.color)\n",
        "\n",
        "car1 = Car(\"Honda Civic Type R \",\" white\")\n",
        "car1.show()"
      ],
      "metadata": {
        "colab": {
          "base_uri": "https://localhost:8080/"
        },
        "id": "BDH3WtWYsjw_",
        "outputId": "8b96c109-30bb-41d0-8d38-541aab36297f"
      },
      "execution_count": null,
      "outputs": [
        {
          "output_type": "stream",
          "name": "stdout",
          "text": [
            "The Honda Civic Type R has a color white\n"
          ]
        }
      ]
    },
    {
      "cell_type": "markdown",
      "source": [
        "Object Methods "
      ],
      "metadata": {
        "id": "ImKiMnYxsu_N"
      }
    },
    {
      "cell_type": "code",
      "source": [
        "class Person:\n",
        "  def __init__(self,name,age):\n",
        "    self.name = name\n",
        "    self.age = age\n",
        "  def myFunction(self):\n",
        "    print(\"Hello Guys! My name is\",self.name)\n",
        "    print(\"I am\",self.age)\n",
        "  \n",
        "p1= Person(\"Jacob\",19)\n",
        "p1.myFunction()"
      ],
      "metadata": {
        "colab": {
          "base_uri": "https://localhost:8080/"
        },
        "id": "2sG_GHO7swoB",
        "outputId": "12d5d666-91b2-4ef4-bebe-ff58bff1bcf0"
      },
      "execution_count": null,
      "outputs": [
        {
          "output_type": "stream",
          "name": "stdout",
          "text": [
            "Hello Guys! My name is Jacob\n",
            "I am 19\n"
          ]
        }
      ]
    },
    {
      "cell_type": "markdown",
      "source": [
        "Modify an Object Property"
      ],
      "metadata": {
        "id": "glM0bpnLs5eI"
      }
    },
    {
      "cell_type": "code",
      "source": [
        "car1.name =\" Ford\"\n",
        "print(car1.name)\n",
        "\n",
        "car1.color = \" Gray\"\n",
        "print(car1.color)\n",
        "\n",
        "car1.show()"
      ],
      "metadata": {
        "colab": {
          "base_uri": "https://localhost:8080/"
        },
        "id": "HcOYsY0gs9VQ",
        "outputId": "ae841aca-b6ca-4f0b-8da4-686905e32758"
      },
      "execution_count": null,
      "outputs": [
        {
          "output_type": "stream",
          "name": "stdout",
          "text": [
            " Ford\n",
            " Gray\n",
            "The  Fordhas a color Gray\n"
          ]
        }
      ]
    },
    {
      "cell_type": "markdown",
      "source": [
        "Delete an Object Property"
      ],
      "metadata": {
        "id": "bfD8nqo9tGwI"
      }
    },
    {
      "cell_type": "code",
      "source": [
        "del car1.name\n",
        "print(car1.color)"
      ],
      "metadata": {
        "colab": {
          "base_uri": "https://localhost:8080/"
        },
        "id": "GdZNISm9tKsP",
        "outputId": "4a7abb9e-587d-4d00-bd26-6cda8d8b229d"
      },
      "execution_count": null,
      "outputs": [
        {
          "output_type": "stream",
          "name": "stdout",
          "text": [
            " Gray\n"
          ]
        }
      ]
    },
    {
      "cell_type": "markdown",
      "source": [
        "Application 1 = Write a Python program that computes for the Area and Perimeter of a Square and create a class name Square with side as its attribute"
      ],
      "metadata": {
        "id": "Bx728xHXXXUU"
      }
    },
    {
      "cell_type": "code",
      "source": [
        "#Area of a Square = s*s\n",
        "#Perimeter of a Square = 4*s = s+s+s+s\n",
        "\n",
        "class Square:\n",
        " def __init__(self,side):\n",
        "  self.side = side\n",
        "\n",
        " def Area(self):\n",
        "  return self.side*self.side\n",
        "\n",
        " def Perimeter(self):\n",
        "  return 4*(self.side)\n",
        "\n",
        " def display(self):\n",
        "  print(\"The area of a square is\",self.Area())\n",
        "  print(\"The perimeter of a square is\",self.Perimeter())\n",
        "\n",
        "sq1 = Square(2)\n",
        "sq1.display()"
      ],
      "metadata": {
        "colab": {
          "base_uri": "https://localhost:8080/"
        },
        "id": "Eqp7MLyftU1m",
        "outputId": "f0dc2086-396d-400c-8d82-738d1815c722"
      },
      "execution_count": 1,
      "outputs": [
        {
          "output_type": "stream",
          "name": "stdout",
          "text": [
            "The area of a square is 4\n",
            "The perimeter of a square is 8\n"
          ]
        }
      ]
    },
    {
      "cell_type": "markdown",
      "source": [
        "lication 2 - Write a Python program that displays your sudent no. and fullname(Surname, First Name MI) and create a class name OOP_58002"
      ],
      "metadata": {
        "id": "JnbNLW2Nvs9h"
      }
    },
    {
      "cell_type": "code",
      "source": [
        "class Person:\n",
        " def __init__(self,student,number):\n",
        "  self.student = student\n",
        "  self.number = number\n",
        "\n",
        " def myFunction(self):\n",
        "  print(\"I am\",self.student,\"and my student number is\", self.number)\n",
        "  print(\"Section - OOP_58002\")\n",
        "\n",
        "\n",
        "p1= Person(\"Lambojo, Jacob Rorenz D\", 202117994)\n",
        "p1.myFunction()"
      ],
      "metadata": {
        "id": "nyJcEqPwvvok",
        "outputId": "3bcc0707-339b-4e70-e673-249366632f44",
        "colab": {
          "base_uri": "https://localhost:8080/"
        }
      },
      "execution_count": 2,
      "outputs": [
        {
          "output_type": "stream",
          "name": "stdout",
          "text": [
            "I am Lambojo, Jacob Rorenz D and my student number is 202117994\n",
            "Section - OOP_58002\n"
          ]
        }
      ]
    }
  ]
}