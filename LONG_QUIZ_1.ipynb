{
  "nbformat": 4,
  "nbformat_minor": 0,
  "metadata": {
    "colab": {
      "name": "LONG QUIZ #1.ipynb",
      "provenance": [],
      "authorship_tag": "ABX9TyOo2fK+FvY7Av///8dzljbk",
      "include_colab_link": true
    },
    "kernelspec": {
      "name": "python3",
      "display_name": "Python 3"
    },
    "language_info": {
      "name": "python"
    }
  },
  "cells": [
    {
      "cell_type": "markdown",
      "metadata": {
        "id": "view-in-github",
        "colab_type": "text"
      },
      "source": [
        "<a href=\"https://colab.research.google.com/github/Nachtttt/OOP-58002/blob/main/LONG_QUIZ_1.ipynb\" target=\"_parent\"><img src=\"https://colab.research.google.com/assets/colab-badge.svg\" alt=\"Open In Colab\"/></a>"
      ]
    },
    {
      "cell_type": "code",
      "execution_count": 2,
      "metadata": {
        "colab": {
          "base_uri": "https://localhost:8080/"
        },
        "id": "uNf_GvdQjZe_",
        "outputId": "7f13fdc4-d36d-4d13-b9f7-a0d95ce4d02c"
      },
      "outputs": [
        {
          "output_type": "stream",
          "name": "stdout",
          "text": [
            "Temperature in Celsius: 18\n",
            "64.4\n"
          ]
        }
      ],
      "source": [
        "class Temperature():   #Convert celsius to fahrenheit \n",
        "  def __init__(self,Celsius):\n",
        "    self.Celsius = Celsius\n",
        "\n",
        "  \n",
        "  def Fahrenheit(self):\n",
        "    result = float((9 * self.Celsius) / 5 + 32) #Formula given to find the fahrenheit\n",
        "    return result\n",
        "    \n",
        "\n",
        "#input the value to get the print out and exact value\n",
        "input_Temperature = float(input(\"Temperature in Celsius: \"))\n",
        "Temperature1 = Temperature(input_Temperature)\n",
        "\n",
        "print(Temperature1.Fahrenheit())  #final result"
      ]
    }
  ]
}