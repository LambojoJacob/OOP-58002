{
  "nbformat": 4,
  "nbformat_minor": 0,
  "metadata": {
    "colab": {
      "name": "Operations and Epressions.ipynb",
      "provenance": [],
      "authorship_tag": "ABX9TyPXqJK0D+Eah6LW/e0sPFyI",
      "include_colab_link": true
    },
    "kernelspec": {
      "name": "python3",
      "display_name": "Python 3"
    },
    "language_info": {
      "name": "python"
    }
  },
  "cells": [
    {
      "cell_type": "markdown",
      "metadata": {
        "id": "view-in-github",
        "colab_type": "text"
      },
      "source": [
        "<a href=\"https://colab.research.google.com/github/Nachtttt/OOP-58002/blob/main/Operations_and_Epressions.ipynb\" target=\"_parent\"><img src=\"https://colab.research.google.com/assets/colab-badge.svg\" alt=\"Open In Colab\"/></a>"
      ]
    },
    {
      "cell_type": "markdown",
      "source": [
        "Boolean Operators"
      ],
      "metadata": {
        "id": "QfO3afouELe8"
      }
    },
    {
      "cell_type": "code",
      "source": [
        "print(10>9)\n",
        "print(10<9)"
      ],
      "metadata": {
        "id": "c6oNP2b3lhvp"
      },
      "execution_count": null,
      "outputs": []
    },
    {
      "cell_type": "code",
      "source": [
        "a=6\n",
        "b=7\n",
        "\n",
        "print(10>9)\n",
        "print(10<9)\n",
        "print(a>b)"
      ],
      "metadata": {
        "colab": {
          "base_uri": "https://localhost:8080/"
        },
        "id": "x1kqSRdgENqH",
        "outputId": "3b542623-e82a-4ded-9fad-c66e81da3bef"
      },
      "execution_count": null,
      "outputs": [
        {
          "output_type": "stream",
          "name": "stdout",
          "text": [
            "True\n",
            "False\n",
            "False\n"
          ]
        }
      ]
    },
    {
      "cell_type": "markdown",
      "source": [
        "Bool()Function"
      ],
      "metadata": {
        "id": "efvW5xrgEzZQ"
      }
    },
    {
      "cell_type": "code",
      "source": [
        "print(bool(\"Maria\"))\n",
        "print(bool(1))\n",
        "print(bool(0))\n",
        "print(bool(None))\n",
        "print(bool(False))\n",
        "print(bool(True))"
      ],
      "metadata": {
        "colab": {
          "base_uri": "https://localhost:8080/"
        },
        "id": "Paa-8-O8E3Of",
        "outputId": "c0ebbcd2-4a5c-4deb-a85a-d93e9101d4c1"
      },
      "execution_count": null,
      "outputs": [
        {
          "output_type": "stream",
          "name": "stdout",
          "text": [
            "True\n",
            "True\n",
            "False\n",
            "False\n",
            "False\n",
            "True\n"
          ]
        }
      ]
    },
    {
      "cell_type": "markdown",
      "source": [
        "Functions can return a Boolean"
      ],
      "metadata": {
        "id": "umg6RytMFpQb"
      }
    },
    {
      "cell_type": "code",
      "source": [
        "def my_Function():\n",
        "  return True\n",
        "print(my_Function())"
      ],
      "metadata": {
        "colab": {
          "base_uri": "https://localhost:8080/"
        },
        "id": "kLeZSFGqFtfj",
        "outputId": "ad7f5951-ae73-4801-fb40-b6c302bd686d"
      },
      "execution_count": null,
      "outputs": [
        {
          "output_type": "stream",
          "name": "stdout",
          "text": [
            "True\n"
          ]
        }
      ]
    },
    {
      "cell_type": "code",
      "source": [
        "if my_Function():\n",
        "  print(\"True\")\n",
        "else:\n",
        "  print(\"False\")"
      ],
      "metadata": {
        "colab": {
          "base_uri": "https://localhost:8080/"
        },
        "id": "M1wuaIJIGoom",
        "outputId": "29ff1ecd-bb96-4c3c-80fb-ab6ab638960a"
      },
      "execution_count": null,
      "outputs": [
        {
          "output_type": "stream",
          "name": "stdout",
          "text": [
            "True\n"
          ]
        }
      ]
    },
    {
      "cell_type": "markdown",
      "source": [
        "Application 1"
      ],
      "metadata": {
        "id": "V5Lg47DMKijF"
      }
    },
    {
      "cell_type": "code",
      "source": [
        "print(10>9)\n",
        "\n",
        "a=6\n",
        "b=7\n",
        "\n",
        "print(a==b)\n",
        "print(a!=b)\n"
      ],
      "metadata": {
        "colab": {
          "base_uri": "https://localhost:8080/"
        },
        "id": "0_SdzXIkMdG-",
        "outputId": "6295d739-fe73-49d1-e236-3eb693d47094"
      },
      "execution_count": null,
      "outputs": [
        {
          "output_type": "stream",
          "name": "stdout",
          "text": [
            "True\n",
            "False\n",
            "True\n"
          ]
        }
      ]
    },
    {
      "cell_type": "markdown",
      "source": [
        "Python Operations"
      ],
      "metadata": {
        "id": "-S8LXu9TMsvJ"
      }
    },
    {
      "cell_type": "code",
      "source": [
        "print(10+5)\n",
        "print(10-5)\n",
        "print(10*5)\n",
        "print(10%5)\n",
        "print(10//3)\n",
        "print(10**3)"
      ],
      "metadata": {
        "colab": {
          "base_uri": "https://localhost:8080/"
        },
        "id": "Me3U9ekhMu-y",
        "outputId": "1cb90e99-5e50-4520-c87e-fd152fdbfd19"
      },
      "execution_count": null,
      "outputs": [
        {
          "output_type": "stream",
          "name": "stdout",
          "text": [
            "15\n",
            "5\n",
            "50\n",
            "0\n",
            "3\n",
            "1000\n"
          ]
        }
      ]
    },
    {
      "cell_type": "markdown",
      "source": [
        "Bitwise Operators"
      ],
      "metadata": {
        "id": "XdM0duMhNpNd"
      }
    },
    {
      "cell_type": "code",
      "source": [
        "c=60\n",
        "d=13\n",
        "\n",
        "c&d\n",
        "print(c|d)\n",
        "print(c^d)\n",
        "\n",
        "print(d<<2)\n"
      ],
      "metadata": {
        "colab": {
          "base_uri": "https://localhost:8080/"
        },
        "id": "fb0QEdWLNrwr",
        "outputId": "80dee104-a46e-4643-ef02-e29adf330b52"
      },
      "execution_count": null,
      "outputs": [
        {
          "output_type": "stream",
          "name": "stdout",
          "text": [
            "61\n",
            "49\n",
            "52\n"
          ]
        }
      ]
    },
    {
      "cell_type": "markdown",
      "source": [
        "Logical Operators"
      ],
      "metadata": {
        "id": "umlyYaC6Pq2f"
      }
    },
    {
      "cell_type": "code",
      "source": [
        "h = True \n",
        "l = False\n",
        "h and l\n",
        "h or l\n",
        "not (h or l)"
      ],
      "metadata": {
        "colab": {
          "base_uri": "https://localhost:8080/"
        },
        "id": "_dTas3wHPtgI",
        "outputId": "3eec80c3-45ca-4b1e-bc5c-fe7e072f8c51"
      },
      "execution_count": null,
      "outputs": [
        {
          "output_type": "execute_result",
          "data": {
            "text/plain": [
              "False"
            ]
          },
          "metadata": {},
          "execution_count": 36
        }
      ]
    },
    {
      "cell_type": "markdown",
      "source": [
        "Application 2"
      ],
      "metadata": {
        "id": "wHX36Nh7QSjH"
      }
    },
    {
      "cell_type": "markdown",
      "source": [
        "#Python Assignemnt Operators"
      ],
      "metadata": {
        "id": "s6IXpQnUl45h"
      }
    },
    {
      "cell_type": "code",
      "source": [
        "x= 10\n",
        "\n",
        "print(10+3)\n",
        "print(10-3)\n",
        "print(10/3)\n",
        "print(10*3)\n",
        "print(10%3)"
      ],
      "metadata": {
        "id": "I2UXUSWTmLDb",
        "outputId": "de307206-b345-4370-aa9b-d5d9fb4e4f41",
        "colab": {
          "base_uri": "https://localhost:8080/"
        }
      },
      "execution_count": 1,
      "outputs": [
        {
          "output_type": "stream",
          "name": "stdout",
          "text": [
            "13\n",
            "7\n",
            "3.3333333333333335\n",
            "30\n",
            "1\n"
          ]
        }
      ]
    },
    {
      "cell_type": "markdown",
      "source": [
        "Identity Operators"
      ],
      "metadata": {
        "id": "-9t8ztdaTMKg"
      }
    },
    {
      "cell_type": "code",
      "source": [
        "h is l\n",
        "h is not l"
      ],
      "metadata": {
        "colab": {
          "base_uri": "https://localhost:8080/"
        },
        "id": "pPJ7ZuJ1TPSn",
        "outputId": "b33f51dd-6cd9-435a-e407-1ad4ed104560"
      },
      "execution_count": null,
      "outputs": [
        {
          "output_type": "execute_result",
          "data": {
            "text/plain": [
              "True"
            ]
          },
          "metadata": {},
          "execution_count": 42
        }
      ]
    },
    {
      "cell_type": "markdown",
      "source": [
        "#Control Structure"
      ],
      "metadata": {
        "id": "kM3P-YyemvmR"
      }
    },
    {
      "cell_type": "markdown",
      "source": [
        "If Statement"
      ],
      "metadata": {
        "id": "sijlBaOTmz4J"
      }
    },
    {
      "cell_type": "code",
      "source": [
        "if print(a<b):\n",
        "  print(\"a is greater than b\")"
      ],
      "metadata": {
        "id": "aVwAfKu1npmQ",
        "outputId": "3030e907-7056-4f2c-d71d-ebed5639563b",
        "colab": {
          "base_uri": "https://localhost:8080/"
        }
      },
      "execution_count": 10,
      "outputs": [
        {
          "output_type": "stream",
          "name": "stdout",
          "text": [
            "False\n"
          ]
        }
      ]
    },
    {
      "cell_type": "code",
      "source": [
        "if a<b:\n",
        "  print(\"a is less than b\")\n",
        "elif a>b:\n",
        "  print(\"a is greater than b\")"
      ],
      "metadata": {
        "id": "MW9TzOIlUa81"
      },
      "execution_count": 13,
      "outputs": []
    },
    {
      "cell_type": "markdown",
      "source": [
        "Else Statement"
      ],
      "metadata": {
        "id": "sxFQPeAIU7IO"
      }
    },
    {
      "cell_type": "code",
      "source": [
        "a=10\n",
        "b=10\n",
        "\n",
        "if a<b:\n",
        "  print(\"a is less than b\")\n",
        "elif a>b:\n",
        "  print(\"a is greater than b\")\n",
        "else:\n",
        "  print(\"a is equal to b\")"
      ],
      "metadata": {
        "colab": {
          "base_uri": "https://localhost:8080/"
        },
        "id": "-CvEbwowU8Py",
        "outputId": "327e79c6-3e05-4595-b82b-01e9a7f234ce"
      },
      "execution_count": 14,
      "outputs": [
        {
          "output_type": "stream",
          "name": "stdout",
          "text": [
            "a is equal to b\n"
          ]
        }
      ]
    },
    {
      "cell_type": "markdown",
      "source": [
        "Short hand if statement"
      ],
      "metadata": {
        "id": "M1E9Bp2RVJge"
      }
    },
    {
      "cell_type": "code",
      "source": [
        "if a==b: print(\"a is equal to b\")"
      ],
      "metadata": {
        "id": "mujBmLq6VNFT"
      },
      "execution_count": 8,
      "outputs": []
    },
    {
      "cell_type": "markdown",
      "source": [
        "Short Hand If...Else Statement"
      ],
      "metadata": {
        "id": "05981SMcVutJ"
      }
    },
    {
      "cell_type": "code",
      "source": [
        "a=10\n",
        "b=9\n",
        "print(\"a is greater than b\") if a>b else print('b is greater than a')"
      ],
      "metadata": {
        "colab": {
          "base_uri": "https://localhost:8080/"
        },
        "id": "U1ueR5MuVyun",
        "outputId": "b3effb28-3360-4eb8-c6f8-5a2e37983b5d"
      },
      "execution_count": 7,
      "outputs": [
        {
          "output_type": "stream",
          "name": "stdout",
          "text": [
            "a is greater than b\n"
          ]
        }
      ]
    },
    {
      "cell_type": "markdown",
      "source": [
        "And"
      ],
      "metadata": {
        "id": "_YcgU25bWpzy"
      }
    },
    {
      "cell_type": "code",
      "source": [
        "if a>b and a==b:\n",
        "  print(\"both conditins are True\")"
      ],
      "metadata": {
        "id": "H_4f82haWqrB"
      },
      "execution_count": 17,
      "outputs": []
    },
    {
      "cell_type": "markdown",
      "source": [
        "Or"
      ],
      "metadata": {
        "id": "tKD4deyiXdJy"
      }
    },
    {
      "cell_type": "code",
      "source": [
        "if a>b or b==b:\n",
        "  print(\"Both condition is True\")"
      ],
      "metadata": {
        "id": "ARrzj47iXeRY",
        "outputId": "b5ee7878-4624-4f0f-9912-301eb448a1d3",
        "colab": {
          "base_uri": "https://localhost:8080/"
        }
      },
      "execution_count": 16,
      "outputs": [
        {
          "output_type": "stream",
          "name": "stdout",
          "text": [
            "Both condition is True\n"
          ]
        }
      ]
    },
    {
      "cell_type": "markdown",
      "source": [
        "Nested If"
      ],
      "metadata": {
        "id": "1zM9qndAojSm"
      }
    },
    {
      "cell_type": "code",
      "source": [
        "x=31\n",
        "if x>10:\n",
        "  print(\"x is above 10\")\n",
        "  if x>20:\n",
        "    print(\"and also above 20\")\n",
        "  if x>30:\n",
        "    print(\"and also above 30\")\n",
        "  if x>40:\n",
        "    print(\"and also above 40\")\n",
        "  else:\n",
        "    print(\"but not above 40\")\n",
        "    "
      ],
      "metadata": {
        "id": "pLMWLRoCokvO",
        "outputId": "ce82d531-b0f0-4ed0-a713-f7dd6dfe0807",
        "colab": {
          "base_uri": "https://localhost:8080/"
        }
      },
      "execution_count": 18,
      "outputs": [
        {
          "output_type": "stream",
          "name": "stdout",
          "text": [
            "x is above 10\n",
            "and also above 20\n",
            "and also above 30\n",
            "but not above 40\n"
          ]
        }
      ]
    },
    {
      "cell_type": "markdown",
      "source": [
        "#Loop Statement"
      ],
      "metadata": {
        "id": "f6CeqL5IpNkY"
      }
    },
    {
      "cell_type": "markdown",
      "source": [
        "For loop"
      ],
      "metadata": {
        "id": "9wSWrkJCpS-h"
      }
    },
    {
      "cell_type": "code",
      "source": [
        "week = [\"Sunday, Monday, Tuesday, Wednesday, Thursday, Friday, Saturday\"]\n",
        "\n",
        "for x in week:\n",
        "  print(x)"
      ],
      "metadata": {
        "id": "EOlnjisVpUDL",
        "outputId": "0812b38b-f89e-4eb7-e8f3-be5dad454b80",
        "colab": {
          "base_uri": "https://localhost:8080/"
        }
      },
      "execution_count": 19,
      "outputs": [
        {
          "output_type": "stream",
          "name": "stdout",
          "text": [
            "Sunday, Monday, Tuesday, Wednesday, Thursday, Friday, Saturday\n"
          ]
        }
      ]
    },
    {
      "cell_type": "markdown",
      "source": [
        "The break statement"
      ],
      "metadata": {
        "id": "zej5gNeapqtZ"
      }
    },
    {
      "cell_type": "code",
      "source": [
        "#to display Sunday to Wednesday using break loop\n",
        "for x in week:\n",
        "  print(x)\n",
        "  if x==\"Wednesday\":\n",
        "    break\n",
        "  "
      ],
      "metadata": {
        "id": "XE_J4vSTqQpy",
        "outputId": "a53812e6-bde1-45af-97c8-54d2bc1fe9ce",
        "colab": {
          "base_uri": "https://localhost:8080/"
        }
      },
      "execution_count": 33,
      "outputs": [
        {
          "output_type": "stream",
          "name": "stdout",
          "text": [
            "Sunday, Monday, Tuesday, Wednesday, Thursday, Friday, Saturday\n"
          ]
        }
      ]
    },
    {
      "cell_type": "markdown",
      "source": [
        "While statement"
      ],
      "metadata": {
        "id": "vtmE0Eg8qny-"
      }
    },
    {
      "cell_type": "code",
      "source": [
        "i = 1\n",
        "while i>6:\n",
        "  print(i)\n",
        "  i+=1"
      ],
      "metadata": {
        "id": "WpvJazpeqqw1"
      },
      "execution_count": 40,
      "outputs": []
    },
    {
      "cell_type": "markdown",
      "source": [
        "Application 3 - Creat a python program that display 3"
      ],
      "metadata": {
        "id": "ucmSs3m_q2Kx"
      }
    },
    {
      "cell_type": "code",
      "source": [
        "i = 1 \n",
        "while i<6:\n",
        "  if i==3:\n",
        "    break\n",
        "  i+=1\n",
        "print(i)"
      ],
      "metadata": {
        "id": "3rLEWqj1q8JF",
        "outputId": "34012d03-9518-4b6a-ac86-b677d8820661",
        "colab": {
          "base_uri": "https://localhost:8080/"
        }
      },
      "execution_count": 39,
      "outputs": [
        {
          "output_type": "stream",
          "name": "stdout",
          "text": [
            "3\n"
          ]
        }
      ]
    }
  ]
}