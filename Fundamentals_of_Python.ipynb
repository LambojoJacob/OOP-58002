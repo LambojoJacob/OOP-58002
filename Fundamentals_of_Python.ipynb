{
  "nbformat": 4,
  "nbformat_minor": 0,
  "metadata": {
    "colab": {
      "name": "Fundamentals of Python.ipynb",
      "provenance": [],
      "authorship_tag": "ABX9TyOfAnGl0AiwNNlIJY1WZrvd",
      "include_colab_link": true
    },
    "kernelspec": {
      "name": "python3",
      "display_name": "Python 3"
    },
    "language_info": {
      "name": "python"
    }
  },
  "cells": [
    {
      "cell_type": "markdown",
      "metadata": {
        "id": "view-in-github",
        "colab_type": "text"
      },
      "source": [
        "<a href=\"https://colab.research.google.com/github/Nachtttt/OOP-58002/blob/main/Fundamentals_of_Python.ipynb\" target=\"_parent\"><img src=\"https://colab.research.google.com/assets/colab-badge.svg\" alt=\"Open In Colab\"/></a>"
      ]
    },
    {
      "cell_type": "code",
      "execution_count": null,
      "metadata": {
        "id": "_RI2pPvXI6hC"
      },
      "outputs": [],
      "source": [
        ""
      ]
    },
    {
      "cell_type": "markdown",
      "source": [
        "#Fundamentals of Python\n"
      ],
      "metadata": {
        "id": "ARzjrJk7Jk0p"
      }
    },
    {
      "cell_type": "code",
      "source": [
        "if 5>2: \n",
        "  print(\"Yes\")"
      ],
      "metadata": {
        "colab": {
          "base_uri": "https://localhost:8080/"
        },
        "id": "I4wZeBMhJoun",
        "outputId": "014a8d3d-1cf6-41cd-97d8-5f432ebab6b5"
      },
      "execution_count": 1,
      "outputs": [
        {
          "output_type": "stream",
          "name": "stdout",
          "text": [
            "Yes\n"
          ]
        }
      ]
    },
    {
      "cell_type": "markdown",
      "source": [
        "Python Comments"
      ],
      "metadata": {
        "id": "377BwIEFKGoU"
      }
    },
    {
      "cell_type": "code",
      "source": [
        "#This is a comment\n",
        "print(\"Hello, world\")"
      ],
      "metadata": {
        "colab": {
          "base_uri": "https://localhost:8080/"
        },
        "id": "aUFoK08WKJti",
        "outputId": "e59ad2c0-bd6e-4d4c-fc25-2b1bd46cac9e"
      },
      "execution_count": 2,
      "outputs": [
        {
          "output_type": "stream",
          "name": "stdout",
          "text": [
            "Hello, world\n"
          ]
        }
      ]
    },
    {
      "cell_type": "markdown",
      "source": [
        "Python Variable"
      ],
      "metadata": {
        "id": "WEAs-V_3LPYr"
      }
    },
    {
      "cell_type": "code",
      "source": [
        "x = \"sally\"\n",
        "\n",
        "a = 0 \n",
        "a,b,c=0,1,2\n",
        "\n",
        "print(x)\n",
        "print(a)\n",
        "print(b)\n",
        "print(c)\n",
        "print(a,b,c)"
      ],
      "metadata": {
        "colab": {
          "base_uri": "https://localhost:8080/"
        },
        "id": "O_lrUvQBLTKo",
        "outputId": "50c2ca37-da60-4294-fa92-a727000fd5f6"
      },
      "execution_count": 4,
      "outputs": [
        {
          "output_type": "stream",
          "name": "stdout",
          "text": [
            "sally\n",
            "0\n",
            "1\n",
            "2\n",
            "0 1 2\n"
          ]
        }
      ]
    },
    {
      "cell_type": "markdown",
      "source": [
        "Casting\n"
      ],
      "metadata": {
        "id": "5AsXlgA0LzwJ"
      }
    },
    {
      "cell_type": "code",
      "source": [
        "d = 4\n",
        "d = Int(4)\n",
        "print(d)\n"
      ],
      "metadata": {
        "colab": {
          "base_uri": "https://localhost:8080/"
        },
        "id": "p-pO9NCIL1X2",
        "outputId": "c6fa36a6-452b-49cf-ef4d-4169ff147f7b"
      },
      "execution_count": 5,
      "outputs": [
        {
          "output_type": "stream",
          "name": "stdout",
          "text": [
            "4\n"
          ]
        }
      ]
    },
    {
      "cell_type": "markdown",
      "source": [
        "Type () function"
      ],
      "metadata": {
        "id": "_Sy_6tL-L7vS"
      }
    },
    {
      "cell_type": "code",
      "source": [
        "d = 4\n",
        "d = int(4)\n",
        "print(type(d))"
      ],
      "metadata": {
        "colab": {
          "base_uri": "https://localhost:8080/"
        },
        "id": "URoP7DIRL_4G",
        "outputId": "9593a04d-8e59-401d-ce17-5f0be13f7779"
      },
      "execution_count": 54,
      "outputs": [
        {
          "output_type": "stream",
          "name": "stdout",
          "text": [
            "<class 'int'>\n"
          ]
        }
      ]
    },
    {
      "cell_type": "markdown",
      "source": [
        "Double qoutes and single quotes"
      ],
      "metadata": {
        "id": "Xexz-6DCMjVc"
      }
    },
    {
      "cell_type": "code",
      "source": [
        "#y = \"Ana\"\n",
        "#print(y)\n",
        "\n",
        "y = 'Ana'\n",
        "Y = \"Robert\"\n",
        "print(y)\n",
        "print(Y)"
      ],
      "metadata": {
        "colab": {
          "base_uri": "https://localhost:8080/"
        },
        "id": "qnNiodJqMmVn",
        "outputId": "c8ea4726-f9e3-4138-e20a-ce7edcaf91f4"
      },
      "execution_count": 12,
      "outputs": [
        {
          "output_type": "stream",
          "name": "stdout",
          "text": [
            "Ana\n",
            "Robert\n"
          ]
        }
      ]
    },
    {
      "cell_type": "markdown",
      "source": [
        "Multiple Variables\n"
      ],
      "metadata": {
        "id": "1ZeOCz_WNTGp"
      }
    },
    {
      "cell_type": "code",
      "source": [
        "#x = tony\n",
        "k=l=m=\"four\"\n",
        "print(k)\n",
        "print(l)\n",
        "print(m)\n",
        "print(k,l,m)\n"
      ],
      "metadata": {
        "colab": {
          "base_uri": "https://localhost:8080/"
        },
        "id": "W6Who5RTOOIR",
        "outputId": "7812df68-624c-41eb-8f40-fed06ea1cd6c"
      },
      "execution_count": 18,
      "outputs": [
        {
          "output_type": "stream",
          "name": "stdout",
          "text": [
            "four\n",
            "four\n",
            "four\n",
            "four four four\n"
          ]
        }
      ]
    },
    {
      "cell_type": "markdown",
      "source": [
        "Output Variable"
      ],
      "metadata": {
        "id": "VKJGgNBCOaSS"
      }
    },
    {
      "cell_type": "code",
      "source": [
        "print('Python programming is enjoying')\n",
        "\n",
        "h = \"enjoying\"\n",
        "p = \"Phython programming is \"\n",
        "print(\"Phython programming is \" + h)\n",
        "print(p+h)"
      ],
      "metadata": {
        "colab": {
          "base_uri": "https://localhost:8080/"
        },
        "id": "zYhB5rU6OdD1",
        "outputId": "3f48b00c-e807-4971-ae3c-5ab82058f5d5"
      },
      "execution_count": 22,
      "outputs": [
        {
          "output_type": "stream",
          "name": "stdout",
          "text": [
            "Python programming is enjoying\n",
            "Phython programming is enjoying\n",
            "phython programming is enjoying\n"
          ]
        }
      ]
    },
    {
      "cell_type": "markdown",
      "source": [
        "Arithmetic Operations"
      ],
      "metadata": {
        "id": "I8li0lEeP1FB"
      }
    },
    {
      "cell_type": "code",
      "source": [
        "print(c+d)  # c = 2, d = 4\n",
        "print(d-c)\n",
        "print(d*c)\n",
        "print(int(d/c))\n",
        "print(d%c)\n",
        "print(3//2)   # 1. 50\n",
        "print(d**c)"
      ],
      "metadata": {
        "colab": {
          "base_uri": "https://localhost:8080/"
        },
        "id": "SFoOHNNQP2u_",
        "outputId": "a6ed1da9-ce0f-4e71-bee8-6d76e9c74ae6"
      },
      "execution_count": 30,
      "outputs": [
        {
          "output_type": "stream",
          "name": "stdout",
          "text": [
            "6\n",
            "2\n",
            "8\n",
            "2\n",
            "0\n",
            "1\n",
            "16\n"
          ]
        }
      ]
    },
    {
      "cell_type": "markdown",
      "source": [
        "Assignment Operators\n"
      ],
      "metadata": {
        "id": "6x3j1QeJQ7f-"
      }
    },
    {
      "cell_type": "code",
      "source": [
        "q = 10\n",
        "q +=5 #same as q=q+5\n",
        "\n",
        "print (q) #same as q=q+5, q=10+5=15"
      ],
      "metadata": {
        "colab": {
          "base_uri": "https://localhost:8080/"
        },
        "id": "IUdhVAInQ-DO",
        "outputId": "0ceeeab3-2918-4a84-ce2b-34c02ca60e87"
      },
      "execution_count": 36,
      "outputs": [
        {
          "output_type": "stream",
          "name": "stdout",
          "text": [
            "15\n"
          ]
        }
      ]
    },
    {
      "cell_type": "markdown",
      "source": [
        "Boolean logic"
      ],
      "metadata": {
        "id": "lKaTfNvFR3Tk"
      }
    },
    {
      "cell_type": "code",
      "source": [
        "s=10\n",
        "print(s^2)\n",
        "print(s|2)"
      ],
      "metadata": {
        "colab": {
          "base_uri": "https://localhost:8080/"
        },
        "id": "gZoNgW-eR6NP",
        "outputId": "393c7ff3-c255-471d-e835-fed29a990008"
      },
      "execution_count": 37,
      "outputs": [
        {
          "output_type": "stream",
          "name": "stdout",
          "text": [
            "8\n",
            "10\n"
          ]
        }
      ]
    },
    {
      "cell_type": "markdown",
      "source": [
        " Comparison Operators"
      ],
      "metadata": {
        "id": "BGo6D6JXS8pu"
      }
    },
    {
      "cell_type": "code",
      "source": [
        "print(s>q)\n",
        "print(s==s)\n",
        "print(q==q)"
      ],
      "metadata": {
        "colab": {
          "base_uri": "https://localhost:8080/"
        },
        "id": "E_91fmcxS_E5",
        "outputId": "3805064c-cd11-4962-8c81-a095206dcfbd"
      },
      "execution_count": 40,
      "outputs": [
        {
          "output_type": "stream",
          "name": "stdout",
          "text": [
            "False\n",
            "True\n",
            "True\n"
          ]
        }
      ]
    },
    {
      "cell_type": "markdown",
      "source": [
        "Logical Operators\n"
      ],
      "metadata": {
        "id": "tT9zyYCNThSr"
      }
    },
    {
      "cell_type": "code",
      "source": [
        "s>q and (s==s) #False\n",
        "s>q or s==s #True\n",
        "\n",
        "print(s>q and (s==s))\n",
        "print(s>q or s==s)"
      ],
      "metadata": {
        "colab": {
          "base_uri": "https://localhost:8080/"
        },
        "id": "aNmBUnblTjXa",
        "outputId": "d1acee68-0c1c-40d2-b0fd-32b12fa24778"
      },
      "execution_count": 45,
      "outputs": [
        {
          "output_type": "stream",
          "name": "stdout",
          "text": [
            "False\n",
            "True\n"
          ]
        }
      ]
    },
    {
      "cell_type": "markdown",
      "source": [
        "Identity Operators"
      ],
      "metadata": {
        "id": "z5I0m9J1UQjZ"
      }
    },
    {
      "cell_type": "code",
      "source": [
        "s is q\n",
        "print(s is not q)"
      ],
      "metadata": {
        "colab": {
          "base_uri": "https://localhost:8080/"
        },
        "id": "mYXIyYGqUZ7f",
        "outputId": "1afecf77-0e01-423d-8a00-ea909d6b109d"
      },
      "execution_count": 46,
      "outputs": [
        {
          "output_type": "stream",
          "name": "stdout",
          "text": [
            "True\n"
          ]
        }
      ]
    },
    {
      "cell_type": "markdown",
      "source": [
        "Bitwise Operator Shift right"
      ],
      "metadata": {
        "id": "IXSJHhT0Ur6U"
      }
    },
    {
      "cell_type": "code",
      "source": [
        "u = 2 #0001 in binary\n",
        "print(u<<1)"
      ],
      "metadata": {
        "colab": {
          "base_uri": "https://localhost:8080/"
        },
        "id": "nkDVmjjZUvFw",
        "outputId": "2b588e40-cf59-43a3-d794-612925fc9ec6"
      },
      "execution_count": 53,
      "outputs": [
        {
          "output_type": "stream",
          "name": "stdout",
          "text": [
            "4\n"
          ]
        }
      ]
    }
  ]
}